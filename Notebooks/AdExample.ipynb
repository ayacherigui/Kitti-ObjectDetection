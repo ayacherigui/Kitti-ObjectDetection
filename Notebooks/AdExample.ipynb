{
 "cells": [
  {
   "cell_type": "code",
   "execution_count": 1,
   "metadata": {},
   "outputs": [],
   "source": [
    "import os\n",
    "import numpy as np\n",
    "import yaml\n",
    "import cv2\n",
    "import tqdm\n",
    "import torch\n",
    "\n",
    "from art.attacks.evasion import ProjectedGradientDescent\n",
    "from art.estimators.object_detection import PyTorchFasterRCNN"
   ]
  },
  {
   "cell_type": "code",
   "execution_count": 2,
   "metadata": {},
   "outputs": [],
   "source": [
    "#get the training test path, Number of classes and the classes from the config file\n",
    "with open('/home/aya/Desktop/Kitti_FasterRCNN/data_configs/data.yaml') as file:\n",
    "        data_configs = yaml.safe_load(file)\n",
    "\n",
    "TEST_DIR_IMAGES = data_configs['TRAIN_DIR_IMAGES']\n",
    "CLASSES = data_configs['CLASSES']\n",
    "NUM_CLASSES = data_configs['NC']\n",
    "SAVE_VALID_PREDICTIONS = data_configs['SAVE_VALID_PREDICTION_IMAGES']\n",
    "\n",
    "DEST_DIR = \"./adversarialExamples\"\n",
    "os.makedirs(DEST_DIR,exist_ok = True) #make the destination dir"
   ]
  },
  {
   "cell_type": "code",
   "execution_count": 3,
   "metadata": {},
   "outputs": [
    {
     "name": "stderr",
     "output_type": "stream",
     "text": [
      "/home/aya/.local/lib/python3.10/site-packages/torchvision/models/_utils.py:208: UserWarning: The parameter 'pretrained' is deprecated since 0.13 and will be removed in 0.15, please use 'weights' instead.\n",
      "  warnings.warn(\n",
      "/home/aya/.local/lib/python3.10/site-packages/torchvision/models/_utils.py:223: UserWarning: Arguments other than a weight enum or `None` for 'weights' are deprecated since 0.13 and will be removed in 0.15. The current behavior is equivalent to passing `weights=FasterRCNN_ResNet50_FPN_Weights.COCO_V1`. You can also use `weights=FasterRCNN_ResNet50_FPN_Weights.DEFAULT` to get the most up-to-date weights.\n",
      "  warnings.warn(msg)\n",
      "/home/aya/.local/lib/python3.10/site-packages/torchvision/models/_utils.py:208: UserWarning: The parameter 'pretrained_backbone' is deprecated since 0.13 and will be removed in 0.15, please use 'weights_backbone' instead.\n",
      "  warnings.warn(\n",
      "/home/aya/.local/lib/python3.10/site-packages/torchvision/models/_utils.py:223: UserWarning: Arguments other than a weight enum or `None` for 'weights_backbone' are deprecated since 0.13 and will be removed in 0.15. The current behavior is equivalent to passing `weights_backbone=ResNet50_Weights.IMAGENET1K_V1`. You can also use `weights_backbone=ResNet50_Weights.DEFAULT` to get the most up-to-date weights.\n",
      "  warnings.warn(msg)\n"
     ]
    }
   ],
   "source": [
    "# Create ART object detector\n",
    "frcnn = PyTorchFasterRCNN(\n",
    "        clip_values=(0, 255), attack_losses=[\"loss_classifier\", \"loss_box_reg\", \"loss_objectness\", \"loss_rpn_box_reg\"]\n",
    "    )"
   ]
  },
  {
   "cell_type": "code",
   "execution_count": 4,
   "metadata": {},
   "outputs": [],
   "source": [
    "# Create and run attack\n",
    "eps = 64\n",
    "attack = ProjectedGradientDescent(estimator=frcnn, eps=eps, eps_step=2, max_iter=10)"
   ]
  },
  {
   "cell_type": "code",
   "execution_count": 5,
   "metadata": {},
   "outputs": [
    {
     "data": {
      "application/vnd.jupyter.widget-view+json": {
       "model_id": "8e4ed7cef5dd4cac879fe8ca823f5e59",
       "version_major": 2,
       "version_minor": 0
      },
      "text/plain": [
       "PGD - Iterations:   0%|          | 0/10 [00:00<?, ?it/s]"
      ]
     },
     "metadata": {},
     "output_type": "display_data"
    },
    {
     "ename": "RuntimeError",
     "evalue": "CUDA out of memory. Tried to allocate 36.00 MiB (GPU 0; 10.91 GiB total capacity; 893.95 MiB already allocated; 51.81 MiB free; 934.00 MiB reserved in total by PyTorch) If reserved memory is >> allocated memory try setting max_split_size_mb to avoid fragmentation.  See documentation for Memory Management and PYTORCH_CUDA_ALLOC_CONF",
     "output_type": "error",
     "traceback": [
      "\u001b[0;31m---------------------------------------------------------------------------\u001b[0m",
      "\u001b[0;31mRuntimeError\u001b[0m                              Traceback (most recent call last)",
      "Cell \u001b[0;32mIn[5], line 9\u001b[0m\n\u001b[1;32m      5\u001b[0m img \u001b[39m=\u001b[39m cv2\u001b[39m.\u001b[39mresize(img, dsize\u001b[39m=\u001b[39m(img\u001b[39m.\u001b[39mshape[\u001b[39m1\u001b[39m], img\u001b[39m.\u001b[39mshape[\u001b[39m0\u001b[39m]), interpolation\u001b[39m=\u001b[39mcv2\u001b[39m.\u001b[39mINTER_CUBIC)\n\u001b[1;32m      8\u001b[0m image \u001b[39m=\u001b[39m np\u001b[39m.\u001b[39mstack([img], axis\u001b[39m=\u001b[39m\u001b[39m0\u001b[39m)\u001b[39m.\u001b[39mastype(np\u001b[39m.\u001b[39mfloat32)\n\u001b[0;32m----> 9\u001b[0m image_adv \u001b[39m=\u001b[39m attack\u001b[39m.\u001b[39;49mgenerate(x\u001b[39m=\u001b[39;49mimage, y\u001b[39m=\u001b[39;49m\u001b[39mNone\u001b[39;49;00m)\n\u001b[1;32m     11\u001b[0m cv2\u001b[39m.\u001b[39mimwrite(DEST_DIR\u001b[39m+\u001b[39m\u001b[39m\"\u001b[39m\u001b[39m/\u001b[39m\u001b[39m\"\u001b[39m\u001b[39m+\u001b[39mi, image_adv[\u001b[39m0\u001b[39m])\n",
      "File \u001b[0;32m~/.local/lib/python3.10/site-packages/art/attacks/evasion/projected_gradient_descent/projected_gradient_descent.py:200\u001b[0m, in \u001b[0;36mProjectedGradientDescent.generate\u001b[0;34m(self, x, y, **kwargs)\u001b[0m\n\u001b[1;32m    185\u001b[0m \u001b[39m\u001b[39m\u001b[39m\"\"\"\u001b[39;00m\n\u001b[1;32m    186\u001b[0m \u001b[39mGenerate adversarial samples and return them in an array.\u001b[39;00m\n\u001b[1;32m    187\u001b[0m \n\u001b[0;32m   (...)\u001b[0m\n\u001b[1;32m    197\u001b[0m \u001b[39m:return: An array holding the adversarial examples.\u001b[39;00m\n\u001b[1;32m    198\u001b[0m \u001b[39m\"\"\"\u001b[39;00m\n\u001b[1;32m    199\u001b[0m logger\u001b[39m.\u001b[39minfo(\u001b[39m\"\u001b[39m\u001b[39mCreating adversarial samples.\u001b[39m\u001b[39m\"\u001b[39m)\n\u001b[0;32m--> 200\u001b[0m \u001b[39mreturn\u001b[39;00m \u001b[39mself\u001b[39;49m\u001b[39m.\u001b[39;49m_attack\u001b[39m.\u001b[39;49mgenerate(x\u001b[39m=\u001b[39;49mx, y\u001b[39m=\u001b[39;49my, \u001b[39m*\u001b[39;49m\u001b[39m*\u001b[39;49mkwargs)\n",
      "File \u001b[0;32m~/.local/lib/python3.10/site-packages/art/attacks/evasion/projected_gradient_descent/projected_gradient_descent_numpy.py:422\u001b[0m, in \u001b[0;36mProjectedGradientDescentNumpy.generate\u001b[0;34m(self, x, y, **kwargs)\u001b[0m\n\u001b[1;32m    419\u001b[0m     \u001b[39mfor\u001b[39;00m i_max_iter \u001b[39min\u001b[39;00m trange(\u001b[39mself\u001b[39m\u001b[39m.\u001b[39mmax_iter, desc\u001b[39m=\u001b[39m\u001b[39m\"\u001b[39m\u001b[39mPGD - Iterations\u001b[39m\u001b[39m\"\u001b[39m, disable\u001b[39m=\u001b[39m\u001b[39mnot\u001b[39;00m \u001b[39mself\u001b[39m\u001b[39m.\u001b[39mverbose):\n\u001b[1;32m    420\u001b[0m         \u001b[39mself\u001b[39m\u001b[39m.\u001b[39m_i_max_iter \u001b[39m=\u001b[39m i_max_iter\n\u001b[0;32m--> 422\u001b[0m         adv_x \u001b[39m=\u001b[39m \u001b[39mself\u001b[39;49m\u001b[39m.\u001b[39;49m_compute(\n\u001b[1;32m    423\u001b[0m             adv_x,\n\u001b[1;32m    424\u001b[0m             x,\n\u001b[1;32m    425\u001b[0m             targets,\n\u001b[1;32m    426\u001b[0m             mask,\n\u001b[1;32m    427\u001b[0m             \u001b[39mself\u001b[39;49m\u001b[39m.\u001b[39;49meps,\n\u001b[1;32m    428\u001b[0m             \u001b[39mself\u001b[39;49m\u001b[39m.\u001b[39;49meps_step,\n\u001b[1;32m    429\u001b[0m             \u001b[39mself\u001b[39;49m\u001b[39m.\u001b[39;49m_project,\n\u001b[1;32m    430\u001b[0m             \u001b[39mself\u001b[39;49m\u001b[39m.\u001b[39;49mnum_random_init \u001b[39m>\u001b[39;49m \u001b[39m0\u001b[39;49m \u001b[39mand\u001b[39;49;00m i_max_iter \u001b[39m==\u001b[39;49m \u001b[39m0\u001b[39;49m,\n\u001b[1;32m    431\u001b[0m             decay\u001b[39m=\u001b[39;49m\u001b[39mself\u001b[39;49m\u001b[39m.\u001b[39;49mdecay,\n\u001b[1;32m    432\u001b[0m             momentum\u001b[39m=\u001b[39;49mmomentum,\n\u001b[1;32m    433\u001b[0m         )\n\u001b[1;32m    435\u001b[0m \u001b[39mif\u001b[39;00m \u001b[39mself\u001b[39m\u001b[39m.\u001b[39msummary_writer \u001b[39mis\u001b[39;00m \u001b[39mnot\u001b[39;00m \u001b[39mNone\u001b[39;00m:\n\u001b[1;32m    436\u001b[0m     \u001b[39mself\u001b[39m\u001b[39m.\u001b[39msummary_writer\u001b[39m.\u001b[39mreset()\n",
      "File \u001b[0;32m~/.local/lib/python3.10/site-packages/art/attacks/evasion/fast_gradient.py:540\u001b[0m, in \u001b[0;36mFastGradientMethod._compute\u001b[0;34m(self, x, x_init, y, mask, eps, eps_step, project, random_init, batch_id_ext, decay, momentum)\u001b[0m\n\u001b[1;32m    537\u001b[0m         mask_batch \u001b[39m=\u001b[39m mask[batch_index_1:batch_index_2]\n\u001b[1;32m    539\u001b[0m \u001b[39m# Get perturbation\u001b[39;00m\n\u001b[0;32m--> 540\u001b[0m perturbation \u001b[39m=\u001b[39m \u001b[39mself\u001b[39;49m\u001b[39m.\u001b[39;49m_compute_perturbation(batch, batch_labels, mask_batch, decay, momentum)\n\u001b[1;32m    542\u001b[0m \u001b[39m# Compute batch_eps and batch_eps_step\u001b[39;00m\n\u001b[1;32m    543\u001b[0m \u001b[39mif\u001b[39;00m \u001b[39misinstance\u001b[39m(eps, np\u001b[39m.\u001b[39mndarray) \u001b[39mand\u001b[39;00m \u001b[39misinstance\u001b[39m(eps_step, np\u001b[39m.\u001b[39mndarray):\n",
      "File \u001b[0;32m~/.local/lib/python3.10/site-packages/art/attacks/evasion/fast_gradient.py:395\u001b[0m, in \u001b[0;36mFastGradientMethod._compute_perturbation\u001b[0;34m(self, x, y, mask, decay, momentum)\u001b[0m\n\u001b[1;32m    392\u001b[0m tol \u001b[39m=\u001b[39m \u001b[39m10e-8\u001b[39m\n\u001b[1;32m    394\u001b[0m \u001b[39m# Get gradient wrt loss; invert it if attack is targeted\u001b[39;00m\n\u001b[0;32m--> 395\u001b[0m grad \u001b[39m=\u001b[39m \u001b[39mself\u001b[39;49m\u001b[39m.\u001b[39;49mestimator\u001b[39m.\u001b[39;49mloss_gradient(x, y) \u001b[39m*\u001b[39m (\u001b[39m1\u001b[39m \u001b[39m-\u001b[39m \u001b[39m2\u001b[39m \u001b[39m*\u001b[39m \u001b[39mint\u001b[39m(\u001b[39mself\u001b[39m\u001b[39m.\u001b[39mtargeted))\n\u001b[1;32m    397\u001b[0m \u001b[39m# Write summary\u001b[39;00m\n\u001b[1;32m    398\u001b[0m \u001b[39mif\u001b[39;00m \u001b[39mself\u001b[39m\u001b[39m.\u001b[39msummary_writer \u001b[39mis\u001b[39;00m \u001b[39mnot\u001b[39;00m \u001b[39mNone\u001b[39;00m:  \u001b[39m# pragma: no cover\u001b[39;00m\n",
      "File \u001b[0;32m~/.local/lib/python3.10/site-packages/art/estimators/object_detection/pytorch_object_detector.py:333\u001b[0m, in \u001b[0;36mPyTorchObjectDetector.loss_gradient\u001b[0;34m(self, x, y, **kwargs)\u001b[0m\n\u001b[1;32m    330\u001b[0m \u001b[39mself\u001b[39m\u001b[39m.\u001b[39m_model\u001b[39m.\u001b[39mzero_grad()\n\u001b[1;32m    332\u001b[0m \u001b[39m# Compute gradients\u001b[39;00m\n\u001b[0;32m--> 333\u001b[0m loss\u001b[39m.\u001b[39;49mbackward(retain_graph\u001b[39m=\u001b[39;49m\u001b[39mTrue\u001b[39;49;00m)  \u001b[39m# type: ignore\u001b[39;00m\n\u001b[1;32m    335\u001b[0m \u001b[39mif\u001b[39;00m \u001b[39misinstance\u001b[39m(x, np\u001b[39m.\u001b[39mndarray):\n\u001b[1;32m    336\u001b[0m     \u001b[39mfor\u001b[39;00m img \u001b[39min\u001b[39;00m image_tensor_list_grad:\n",
      "File \u001b[0;32m~/.local/lib/python3.10/site-packages/torch/_tensor.py:396\u001b[0m, in \u001b[0;36mTensor.backward\u001b[0;34m(self, gradient, retain_graph, create_graph, inputs)\u001b[0m\n\u001b[1;32m    387\u001b[0m \u001b[39mif\u001b[39;00m has_torch_function_unary(\u001b[39mself\u001b[39m):\n\u001b[1;32m    388\u001b[0m     \u001b[39mreturn\u001b[39;00m handle_torch_function(\n\u001b[1;32m    389\u001b[0m         Tensor\u001b[39m.\u001b[39mbackward,\n\u001b[1;32m    390\u001b[0m         (\u001b[39mself\u001b[39m,),\n\u001b[0;32m   (...)\u001b[0m\n\u001b[1;32m    394\u001b[0m         create_graph\u001b[39m=\u001b[39mcreate_graph,\n\u001b[1;32m    395\u001b[0m         inputs\u001b[39m=\u001b[39minputs)\n\u001b[0;32m--> 396\u001b[0m torch\u001b[39m.\u001b[39;49mautograd\u001b[39m.\u001b[39;49mbackward(\u001b[39mself\u001b[39;49m, gradient, retain_graph, create_graph, inputs\u001b[39m=\u001b[39;49minputs)\n",
      "File \u001b[0;32m~/.local/lib/python3.10/site-packages/torch/autograd/__init__.py:173\u001b[0m, in \u001b[0;36mbackward\u001b[0;34m(tensors, grad_tensors, retain_graph, create_graph, grad_variables, inputs)\u001b[0m\n\u001b[1;32m    168\u001b[0m     retain_graph \u001b[39m=\u001b[39m create_graph\n\u001b[1;32m    170\u001b[0m \u001b[39m# The reason we repeat same the comment below is that\u001b[39;00m\n\u001b[1;32m    171\u001b[0m \u001b[39m# some Python versions print out the first line of a multi-line function\u001b[39;00m\n\u001b[1;32m    172\u001b[0m \u001b[39m# calls in the traceback and some print out the last line\u001b[39;00m\n\u001b[0;32m--> 173\u001b[0m Variable\u001b[39m.\u001b[39;49m_execution_engine\u001b[39m.\u001b[39;49mrun_backward(  \u001b[39m# Calls into the C++ engine to run the backward pass\u001b[39;49;00m\n\u001b[1;32m    174\u001b[0m     tensors, grad_tensors_, retain_graph, create_graph, inputs,\n\u001b[1;32m    175\u001b[0m     allow_unreachable\u001b[39m=\u001b[39;49m\u001b[39mTrue\u001b[39;49;00m, accumulate_grad\u001b[39m=\u001b[39;49m\u001b[39mTrue\u001b[39;49;00m)\n",
      "\u001b[0;31mRuntimeError\u001b[0m: CUDA out of memory. Tried to allocate 36.00 MiB (GPU 0; 10.91 GiB total capacity; 893.95 MiB already allocated; 51.81 MiB free; 934.00 MiB reserved in total by PyTorch) If reserved memory is >> allocated memory try setting max_split_size_mb to avoid fragmentation.  See documentation for Memory Management and PYTORCH_CUDA_ALLOC_CONF"
     ]
    }
   ],
   "source": [
    "for i in os.listdir(TEST_DIR_IMAGES):\n",
    "\n",
    "    img = cv2.imread(os.path.join(TEST_DIR_IMAGES,i))\n",
    "    img = cv2.cvtColor(img, cv2.COLOR_BGR2RGB) # Convert to RGB\n",
    "    img = cv2.resize(img, dsize=(img.shape[1], img.shape[0]), interpolation=cv2.INTER_CUBIC)\n",
    "    \n",
    "    \n",
    "    image = np.stack([img], axis=0).astype(np.float32)\n",
    "    image_adv = attack.generate(x=image, y=None)\n",
    "\n",
    "    cv2.imwrite(DEST_DIR+\"/\"+i, image_adv[0])"
   ]
  },
  {
   "cell_type": "code",
   "execution_count": null,
   "metadata": {},
   "outputs": [],
   "source": [
    "# # Stack images\n",
    "# image = np.stack(image, axis=0).astype(np.float32)"
   ]
  },
  {
   "cell_type": "code",
   "execution_count": null,
   "metadata": {},
   "outputs": [],
   "source": [
    "# print(\"number of images {}\".format(len(filenames)))\n",
    "# print(\"image.shape:\", image.shape)"
   ]
  },
  {
   "cell_type": "code",
   "execution_count": null,
   "metadata": {},
   "outputs": [],
   "source": [
    "# print(\"\\nThe attack budget eps is {}\".format(eps))\n",
    "# print(\"The resulting maximal difference in pixel values is {}.\".format(np.amax(np.abs(img - image_adv))))\n"
   ]
  }
 ],
 "metadata": {
  "kernelspec": {
   "display_name": "Python 3",
   "language": "python",
   "name": "python3"
  },
  "language_info": {
   "codemirror_mode": {
    "name": "ipython",
    "version": 3
   },
   "file_extension": ".py",
   "mimetype": "text/x-python",
   "name": "python",
   "nbconvert_exporter": "python",
   "pygments_lexer": "ipython3",
   "version": "3.10.6"
  },
  "orig_nbformat": 4
 },
 "nbformat": 4,
 "nbformat_minor": 2
}
