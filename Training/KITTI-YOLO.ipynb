{
 "cells": [
  {
   "cell_type": "code",
   "execution_count": 1,
   "metadata": {},
   "outputs": [],
   "source": [
    "from ultralytics import YOLO"
   ]
  },
  {
   "cell_type": "code",
   "execution_count": 5,
   "metadata": {},
   "outputs": [
    {
     "name": "stderr",
     "output_type": "stream",
     "text": [
      "Ultralytics YOLOv8.0.20 🚀 Python-3.10.6 torch-1.12.0+cu102 CUDA:0 (NVIDIA GeForce GTX 1080 Ti, 11169MiB)\n",
      "\u001b[34m\u001b[1myolo/engine/trainer: \u001b[0mtask=detect, mode=train, model=yolov8n.yaml, data=data.yaml, epochs=50, patience=50, batch=8, imgsz=370, save=True, cache=False, device=, workers=8, project=None, name=yolov8n_custom, exist_ok=False, pretrained=False, optimizer=SGD, verbose=False, seed=0, deterministic=True, single_cls=False, image_weights=False, rect=False, cos_lr=False, close_mosaic=10, resume=False, overlap_mask=True, mask_ratio=4, dropout=False, val=True, save_json=False, save_hybrid=False, conf=0.001, iou=0.7, max_det=300, half=False, dnn=False, plots=True, source=ultralytics/assets/, show=False, save_txt=False, save_conf=False, save_crop=False, hide_labels=False, hide_conf=False, vid_stride=1, line_thickness=3, visualize=False, augment=False, agnostic_nms=False, classes=None, retina_masks=False, boxes=True, format=torchscript, keras=False, optimize=False, int8=False, dynamic=False, simplify=False, opset=17, workspace=4, nms=False, lr0=0.01, lrf=0.01, momentum=0.937, weight_decay=0.001, warmup_epochs=3.0, warmup_momentum=0.8, warmup_bias_lr=0.1, box=7.5, cls=0.5, dfl=1.5, fl_gamma=0.0, label_smoothing=0.0, nbs=64, hsv_h=0.015, hsv_s=0.7, hsv_v=0.4, degrees=0.0, translate=0.1, scale=0.5, shear=0.0, perspective=0.0, flipud=0.0, fliplr=0.5, mosaic=1.0, mixup=0.0, copy_paste=0.0, cfg=None, v5loader=False, save_dir=runs/detect/yolov8n_custom7\n"
     ]
    },
    {
     "ename": "FileNotFoundError",
     "evalue": "\nDataset 'data.yaml' not found ⚠️, missing paths ['/home/aya/Kitti-ObjectDetection/datasets/kitti-YOLOFormat/valid/images']",
     "output_type": "error",
     "traceback": [
      "\u001b[0;31m---------------------------------------------------------------------------\u001b[0m",
      "\u001b[0;31mFileNotFoundError\u001b[0m                         Traceback (most recent call last)",
      "Cell \u001b[0;32mIn[5], line 4\u001b[0m\n\u001b[1;32m      1\u001b[0m model \u001b[39m=\u001b[39m YOLO(\u001b[39m'\u001b[39m\u001b[39myolov8n.pt\u001b[39m\u001b[39m'\u001b[39m)\n\u001b[1;32m      3\u001b[0m \u001b[39m# Training.\u001b[39;00m\n\u001b[0;32m----> 4\u001b[0m results \u001b[39m=\u001b[39m model\u001b[39m.\u001b[39;49mtrain(\n\u001b[1;32m      5\u001b[0m    data\u001b[39m=\u001b[39;49m\u001b[39m'\u001b[39;49m\u001b[39mdata.yaml\u001b[39;49m\u001b[39m'\u001b[39;49m,\n\u001b[1;32m      6\u001b[0m    imgsz\u001b[39m=\u001b[39;49m\u001b[39m370\u001b[39;49m,\n\u001b[1;32m      7\u001b[0m    epochs\u001b[39m=\u001b[39;49m\u001b[39m50\u001b[39;49m,\n\u001b[1;32m      8\u001b[0m    batch\u001b[39m=\u001b[39;49m\u001b[39m8\u001b[39;49m,\n\u001b[1;32m      9\u001b[0m    name\u001b[39m=\u001b[39;49m\u001b[39m'\u001b[39;49m\u001b[39myolov8n_custom\u001b[39;49m\u001b[39m'\u001b[39;49m)\n",
      "File \u001b[0;32m~/.local/lib/python3.10/site-packages/ultralytics/yolo/engine/model.py:203\u001b[0m, in \u001b[0;36mYOLO.train\u001b[0;34m(self, **kwargs)\u001b[0m\n\u001b[1;32m    200\u001b[0m \u001b[39mif\u001b[39;00m overrides\u001b[39m.\u001b[39mget(\u001b[39m\"\u001b[39m\u001b[39mresume\u001b[39m\u001b[39m\"\u001b[39m):\n\u001b[1;32m    201\u001b[0m     overrides[\u001b[39m\"\u001b[39m\u001b[39mresume\u001b[39m\u001b[39m\"\u001b[39m] \u001b[39m=\u001b[39m \u001b[39mself\u001b[39m\u001b[39m.\u001b[39mckpt_path\n\u001b[0;32m--> 203\u001b[0m \u001b[39mself\u001b[39m\u001b[39m.\u001b[39mtrainer \u001b[39m=\u001b[39m \u001b[39mself\u001b[39;49m\u001b[39m.\u001b[39;49mTrainerClass(overrides\u001b[39m=\u001b[39;49moverrides)\n\u001b[1;32m    204\u001b[0m \u001b[39mif\u001b[39;00m \u001b[39mnot\u001b[39;00m overrides\u001b[39m.\u001b[39mget(\u001b[39m\"\u001b[39m\u001b[39mresume\u001b[39m\u001b[39m\"\u001b[39m):  \u001b[39m# manually set model only if not resuming\u001b[39;00m\n\u001b[1;32m    205\u001b[0m     \u001b[39mself\u001b[39m\u001b[39m.\u001b[39mtrainer\u001b[39m.\u001b[39mmodel \u001b[39m=\u001b[39m \u001b[39mself\u001b[39m\u001b[39m.\u001b[39mtrainer\u001b[39m.\u001b[39mget_model(weights\u001b[39m=\u001b[39m\u001b[39mself\u001b[39m\u001b[39m.\u001b[39mmodel \u001b[39mif\u001b[39;00m \u001b[39mself\u001b[39m\u001b[39m.\u001b[39mckpt \u001b[39melse\u001b[39;00m \u001b[39mNone\u001b[39;00m, cfg\u001b[39m=\u001b[39m\u001b[39mself\u001b[39m\u001b[39m.\u001b[39mmodel\u001b[39m.\u001b[39myaml)\n",
      "File \u001b[0;32m~/.local/lib/python3.10/site-packages/ultralytics/yolo/engine/trainer.py:122\u001b[0m, in \u001b[0;36mBaseTrainer.__init__\u001b[0;34m(self, cfg, overrides)\u001b[0m\n\u001b[1;32m    120\u001b[0m \u001b[39mself\u001b[39m\u001b[39m.\u001b[39mdata \u001b[39m=\u001b[39m \u001b[39mself\u001b[39m\u001b[39m.\u001b[39margs\u001b[39m.\u001b[39mdata\n\u001b[1;32m    121\u001b[0m \u001b[39mif\u001b[39;00m \u001b[39mself\u001b[39m\u001b[39m.\u001b[39mdata\u001b[39m.\u001b[39mendswith(\u001b[39m\"\u001b[39m\u001b[39m.yaml\u001b[39m\u001b[39m\"\u001b[39m):\n\u001b[0;32m--> 122\u001b[0m     \u001b[39mself\u001b[39m\u001b[39m.\u001b[39mdata \u001b[39m=\u001b[39m check_det_dataset(\u001b[39mself\u001b[39;49m\u001b[39m.\u001b[39;49mdata)\n\u001b[1;32m    123\u001b[0m \u001b[39melif\u001b[39;00m \u001b[39mself\u001b[39m\u001b[39m.\u001b[39margs\u001b[39m.\u001b[39mtask \u001b[39m==\u001b[39m \u001b[39m'\u001b[39m\u001b[39mclassify\u001b[39m\u001b[39m'\u001b[39m:\n\u001b[1;32m    124\u001b[0m     \u001b[39mself\u001b[39m\u001b[39m.\u001b[39mdata \u001b[39m=\u001b[39m check_cls_dataset(\u001b[39mself\u001b[39m\u001b[39m.\u001b[39mdata)\n",
      "File \u001b[0;32m~/.local/lib/python3.10/site-packages/ultralytics/yolo/data/utils.py:237\u001b[0m, in \u001b[0;36mcheck_det_dataset\u001b[0;34m(dataset, autodownload)\u001b[0m\n\u001b[1;32m    235\u001b[0m     LOGGER\u001b[39m.\u001b[39mwarning(msg)\n\u001b[1;32m    236\u001b[0m \u001b[39melse\u001b[39;00m:\n\u001b[0;32m--> 237\u001b[0m     \u001b[39mraise\u001b[39;00m \u001b[39mFileNotFoundError\u001b[39;00m(msg)\n\u001b[1;32m    238\u001b[0m t \u001b[39m=\u001b[39m time\u001b[39m.\u001b[39mtime()\n\u001b[1;32m    239\u001b[0m \u001b[39mif\u001b[39;00m s\u001b[39m.\u001b[39mstartswith(\u001b[39m'\u001b[39m\u001b[39mhttp\u001b[39m\u001b[39m'\u001b[39m) \u001b[39mand\u001b[39;00m s\u001b[39m.\u001b[39mendswith(\u001b[39m'\u001b[39m\u001b[39m.zip\u001b[39m\u001b[39m'\u001b[39m):  \u001b[39m# URL\u001b[39;00m\n",
      "\u001b[0;31mFileNotFoundError\u001b[0m: \nDataset 'data.yaml' not found ⚠️, missing paths ['/home/aya/Kitti-ObjectDetection/datasets/kitti-YOLOFormat/valid/images']"
     ]
    }
   ],
   "source": [
    "model = YOLO('yolov8n.pt')\n",
    " \n",
    "# Training.\n",
    "results = model.train(\n",
    "   data='data.yaml',\n",
    "   imgsz=370,\n",
    "   epochs=50,\n",
    "   batch=8,\n",
    "   name='yolov8n_custom')"
   ]
  },
  {
   "cell_type": "code",
   "execution_count": null,
   "metadata": {},
   "outputs": [
    {
     "name": "stderr",
     "output_type": "stream",
     "text": [
      "Exception ignored in: <function _after_at_fork_child_reinit_locks at 0x7fa87bb39ab0>\n",
      "Traceback (most recent call last):\n",
      "  File \"/usr/lib/python3.10/logging/__init__.py\", line 256, in _after_at_fork_child_reinit_locks\n",
      "    handler._at_fork_reinit()\n",
      "  File \"/usr/lib/python3.10/logging/__init__.py\", line 910, in _at_fork_reinit\n",
      "    self.lock._at_fork_reinit()\n",
      "AttributeError: 'NoneType' object has no attribute '_at_fork_reinit'\n"
     ]
    },
    {
     "name": "stdout",
     "output_type": "stream",
     "text": [
      "Ultralytics YOLOv8.0.20 🚀 Python-3.10.6 torch-1.13.1+cu117 CUDA:0 (NVIDIA GeForce GTX 1080 Ti, 11169MiB)\n",
      "Model summary (fused): 168 layers, 3007403 parameters, 0 gradients, 8.1 GFLOPs\n",
      "\u001b[34m\u001b[1mval: \u001b[0mScanning /home/aya/Kitti-ObjectDetection/kitty/valid/labels.cache... 1513 i\u001b[0m\n",
      "                 Class     Images  Instances      Box(P          R      mAP50  m\n",
      "                   all       1513      10350      0.863      0.817      0.874      0.648\n",
      "               Cyclist       1513        341      0.907      0.815       0.89      0.616\n",
      "              DontCare       1513       2252      0.638      0.314      0.413      0.158\n",
      "                  Misc       1513        216      0.882       0.87       0.93      0.699\n",
      "        Person_sitting       1513         42      0.801      0.833      0.895      0.588\n",
      "                  Tram       1513         95      0.867      0.958      0.971      0.794\n",
      "                 Truck       1513        225      0.941       0.96      0.979      0.846\n",
      "                   Van       1513        581      0.931      0.924      0.963      0.801\n",
      "                   car       1513       5667      0.942      0.946      0.979      0.834\n",
      "                person       1513        931      0.862      0.727      0.844      0.495\n",
      "Speed: 0.5ms pre-process, 2.8ms inference, 0.0ms loss, 0.7ms post-process per image\n"
     ]
    }
   ],
   "source": [
    "!yolo task=detect mode=val model=yolov8n_costum.pt data=data.yaml"
   ]
  },
  {
   "cell_type": "code",
   "execution_count": null,
   "metadata": {},
   "outputs": [
    {
     "name": "stderr",
     "output_type": "stream",
     "text": [
      "Ultralytics YOLOv8.0.20 🚀 Python-3.10.6 torch-1.13.1+cu117 CUDA:0 (NVIDIA GeForce GTX 1080 Ti, 11169MiB)\n",
      "\u001b[34m\u001b[1mval: \u001b[0mScanning /home/aya/Kitti-ObjectDetection/kitty/valid/labels.cache... 1513 images, 0 backgrounds, 0 corrupt: 100%|██████████| 1513/1513 [00:00<?, ?it/s]\n",
      "                 Class     Images  Instances      Box(P          R      mAP50  mAP50-95):   0%|          | 0/190 [00:00<?, ?it/s]Exception ignored in: <function _after_at_fork_child_reinit_locks at 0x7fa87bb39ab0>\n",
      "Traceback (most recent call last):\n",
      "Exception ignored in:   File \"/usr/lib/python3.10/logging/__init__.py\", line 256, in _after_at_fork_child_reinit_locks\n",
      "<function _after_at_fork_child_reinit_locks at 0x7fa87bb39ab0>\n",
      "    handler._at_fork_reinit()Exception ignored in: Traceback (most recent call last):\n",
      "\n",
      "  File \"/usr/lib/python3.10/logging/__init__.py\", line 256, in _after_at_fork_child_reinit_locks\n",
      "<function _after_at_fork_child_reinit_locks at 0x7fa87bb39ab0>\n",
      "  File \"/usr/lib/python3.10/logging/__init__.py\", line 910, in _at_fork_reinit\n",
      "    handler._at_fork_reinit()    \n",
      "Exception ignored in: Traceback (most recent call last):\n",
      "self.lock._at_fork_reinit()  File \"/usr/lib/python3.10/logging/__init__.py\", line 910, in _at_fork_reinit\n",
      "  File \"/usr/lib/python3.10/logging/__init__.py\", line 256, in _after_at_fork_child_reinit_locks\n",
      "\n",
      "<function _after_at_fork_child_reinit_locks at 0x7fa87bb39ab0>AttributeError\n",
      "        : self.lock._at_fork_reinit()handler._at_fork_reinit()'NoneType' object has no attribute '_at_fork_reinit'\n",
      "\n",
      "\n",
      "Exception ignored in: AttributeErrorTraceback (most recent call last):\n",
      ":   File \"/usr/lib/python3.10/logging/__init__.py\", line 910, in _at_fork_reinit\n",
      "  File \"/usr/lib/python3.10/logging/__init__.py\", line 256, in _after_at_fork_child_reinit_locks\n",
      "<function _after_at_fork_child_reinit_locks at 0x7fa87bb39ab0>'NoneType' object has no attribute '_at_fork_reinit'\n",
      "\n",
      "        handler._at_fork_reinit()self.lock._at_fork_reinit()\n",
      "Exception ignored in: \n",
      "Traceback (most recent call last):\n",
      "  File \"/usr/lib/python3.10/logging/__init__.py\", line 910, in _at_fork_reinit\n",
      "AttributeError<function _after_at_fork_child_reinit_locks at 0x7fa87bb39ab0>    : \n",
      "  File \"/usr/lib/python3.10/logging/__init__.py\", line 256, in _after_at_fork_child_reinit_locks\n",
      "self.lock._at_fork_reinit()'NoneType' object has no attribute '_at_fork_reinit'\n",
      "    \n",
      "AttributeErrorhandler._at_fork_reinit()Traceback (most recent call last):\n",
      ": \n",
      "'NoneType' object has no attribute '_at_fork_reinit'  File \"/usr/lib/python3.10/logging/__init__.py\", line 256, in _after_at_fork_child_reinit_locks\n",
      "  File \"/usr/lib/python3.10/logging/__init__.py\", line 910, in _at_fork_reinit\n",
      "    \n",
      "    self.lock._at_fork_reinit()handler._at_fork_reinit()\n",
      "\n",
      "AttributeError  File \"/usr/lib/python3.10/logging/__init__.py\", line 910, in _at_fork_reinit\n",
      ":     'NoneType' object has no attribute '_at_fork_reinit'self.lock._at_fork_reinit()\n",
      "\n",
      "AttributeError: 'NoneType' object has no attribute '_at_fork_reinit'\n",
      "                 Class     Images  Instances      Box(P          R      mAP50  mAP50-95): 100%|██████████| 190/190 [00:14<00:00, 13.16it/s]\n",
      "                   all       1513      10350      0.863      0.817      0.874      0.648\n",
      "               Cyclist       1513        341      0.907      0.815       0.89      0.616\n",
      "              DontCare       1513       2252      0.638      0.314      0.413      0.158\n",
      "                  Misc       1513        216      0.882       0.87       0.93      0.699\n",
      "        Person_sitting       1513         42      0.801      0.833      0.895      0.588\n",
      "                  Tram       1513         95      0.867      0.958      0.971      0.794\n",
      "                 Truck       1513        225      0.941       0.96      0.979      0.846\n",
      "                   Van       1513        581      0.931      0.924      0.963      0.801\n",
      "                   car       1513       5667      0.942      0.946      0.979      0.834\n",
      "                person       1513        931      0.862      0.727      0.844      0.495\n",
      "Speed: 0.4ms pre-process, 3.4ms inference, 0.0ms loss, 0.7ms post-process per image\n"
     ]
    }
   ],
   "source": [
    "#!yolo task=detect mode=val model=\"/runs/detect/yolov8n_custom6/weights/best.pt\" data=data.yaml\n",
    "results = model.val()  # evaluate model performance on the test set"
   ]
  },
  {
   "cell_type": "code",
   "execution_count": null,
   "metadata": {},
   "outputs": [
    {
     "name": "stderr",
     "output_type": "stream",
     "text": [
      "Exception ignored in: <function _after_at_fork_child_reinit_locks at 0x7fa87bb39ab0>\n",
      "Traceback (most recent call last):\n",
      "  File \"/usr/lib/python3.10/logging/__init__.py\", line 256, in _after_at_fork_child_reinit_locks\n",
      "    handler._at_fork_reinit()\n",
      "  File \"/usr/lib/python3.10/logging/__init__.py\", line 910, in _at_fork_reinit\n",
      "    self.lock._at_fork_reinit()\n",
      "AttributeError: 'NoneType' object has no attribute '_at_fork_reinit'\n"
     ]
    },
    {
     "name": "stdout",
     "output_type": "stream",
     "text": [
      "Ultralytics YOLOv8.0.20 🚀 Python-3.10.6 torch-1.13.1+cu117 CUDA:0 (NVIDIA GeForce GTX 1080 Ti, 11169MiB)\n",
      "YOLOv8n summary (fused): 168 layers, 3151904 parameters, 0 gradients, 8.7 GFLOPs\n",
      "image 1/1 /home/aya/Kitti-ObjectDetection/kitty/train/images/000036_png.rf.04ff80c138765044b69cb8df5d4078f4.jpg: 224x640 5 cars, 1 traffic light, 10.3ms\n",
      "Speed: 0.3ms pre-process, 10.3ms inference, 1.8ms postprocess per image at shape (1, 3, 640, 640)\n",
      "Results saved to \u001b[1mruns/detect/predict2\u001b[0m\n"
     ]
    }
   ],
   "source": [
    "#Before yolo\n",
    "!yolo task=detect mode=predict model=yolov8n.pt source=\"kitty/test/images/000036_png.rf.04ff80c138765044b69cb8df5d4078f4.jpg\" save=True conf=0.5"
   ]
  },
  {
   "cell_type": "code",
   "execution_count": null,
   "metadata": {},
   "outputs": [
    {
     "name": "stderr",
     "output_type": "stream",
     "text": [
      "Exception ignored in: <function _after_at_fork_child_reinit_locks at 0x7fa87bb39ab0>\n",
      "Traceback (most recent call last):\n",
      "  File \"/usr/lib/python3.10/logging/__init__.py\", line 256, in _after_at_fork_child_reinit_locks\n",
      "    handler._at_fork_reinit()\n",
      "  File \"/usr/lib/python3.10/logging/__init__.py\", line 910, in _at_fork_reinit\n",
      "    self.lock._at_fork_reinit()\n",
      "AttributeError: 'NoneType' object has no attribute '_at_fork_reinit'\n"
     ]
    },
    {
     "name": "stdout",
     "output_type": "stream",
     "text": [
      "Ultralytics YOLOv8.0.20 🚀 Python-3.10.6 torch-1.13.1+cu117 CUDA:0 (NVIDIA GeForce GTX 1080 Ti, 11169MiB)\n",
      "Model summary (fused): 168 layers, 3007403 parameters, 0 gradients, 8.1 GFLOPs\n",
      "image 1/1 /home/aya/Kitti-ObjectDetection/kitty/train/images/000036_png.rf.04ff80c138765044b69cb8df5d4078f4.jpg: 384x1248 7 cars, 9.1ms\n",
      "Speed: 0.5ms pre-process, 9.1ms inference, 1.7ms postprocess per image at shape (1, 3, 1248, 1248)\n",
      "Results saved to \u001b[1mruns/detect/predict\u001b[0m\n"
     ]
    }
   ],
   "source": [
    "#Try yolov8 on images\n",
    "!yolo task=detect mode=predict model=yolov8n_costum.pt source=\"kitty/test/images/000036_png.rf.04ff80c138765044b69cb8df5d4078f4.jpg\" save=True conf=0.5"
   ]
  },
  {
   "cell_type": "code",
   "execution_count": null,
   "metadata": {},
   "outputs": [
    {
     "name": "stderr",
     "output_type": "stream",
     "text": [
      "Ultralytics YOLOv8.0.20 🚀 Python-3.10.6 torch-1.13.1+cu117 CUDA:0 (NVIDIA GeForce GTX 1080 Ti, 11169MiB)\n",
      "Model summary (fused): 168 layers, 3007403 parameters, 0 gradients, 8.1 GFLOPs\n",
      "\n",
      "\u001b[34m\u001b[1mPyTorch:\u001b[0m starting from /home/aya/Desktop/Kitti-ObjectDetection/runs/detect/yolov8n_custom15/weights/best.pt with output shape (1, 13, 31941) (6.0 MB)\n",
      "\n",
      "\u001b[34m\u001b[1mONNX:\u001b[0m starting export with onnx 1.13.1...\n",
      "\u001b[34m\u001b[1mONNX:\u001b[0m export success ✅ 0.5s, saved as /home/aya/Desktop/Kitti-ObjectDetection/runs/detect/yolov8n_custom15/weights/best.onnx (12.1 MB)\n",
      "\n",
      "Export complete (5.9s)\n",
      "Results saved to \u001b[1m/home/aya/Desktop/Kitti-ObjectDetection/runs/detect/yolov8n_custom15/weights\u001b[0m\n",
      "Predict:         yolo task=detect mode=predict model=/home/aya/Desktop/Kitti-ObjectDetection/runs/detect/yolov8n_custom15/weights/best.onnx -WARNING ⚠️ not yet supported for YOLOv8 exported models\n",
      "Validate:        yolo task=detect mode=val model=/home/aya/Desktop/Kitti-ObjectDetection/runs/detect/yolov8n_custom15/weights/best.onnx -WARNING ⚠️ not yet supported for YOLOv8 exported models\n",
      "Visualize:       https://netron.app\n"
     ]
    }
   ],
   "source": [
    "model = YOLO('/home/aya/Desktop/Kitti-ObjectDetection/runs/detect/yolov8n_custom15/weights/best.pt')\n",
    "# Export the model in onnx format\n",
    "model.export(format='onnx')"
   ]
  }
 ],
 "metadata": {
  "kernelspec": {
   "display_name": "Python 3",
   "language": "python",
   "name": "python3"
  },
  "language_info": {
   "codemirror_mode": {
    "name": "ipython",
    "version": 3
   },
   "file_extension": ".py",
   "mimetype": "text/x-python",
   "name": "python",
   "nbconvert_exporter": "python",
   "pygments_lexer": "ipython3",
   "version": "3.10.6"
  },
  "orig_nbformat": 4
 },
 "nbformat": 4,
 "nbformat_minor": 2
}
